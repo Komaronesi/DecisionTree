{
 "cells": [
  {
   "cell_type": "markdown",
   "id": "0d15382d",
   "metadata": {
    "toc": true
   },
   "source": [
    "<h1>Table of Contents<span class=\"tocSkip\"></span></h1>\n",
    "<div class=\"toc\"><ul class=\"toc-item\"></ul></div>"
   ]
  },
  {
   "cell_type": "code",
   "execution_count": 1,
   "id": "b1e84b52",
   "metadata": {
    "ExecuteTime": {
     "end_time": "2023-12-14T13:20:45.790826Z",
     "start_time": "2023-12-14T13:20:41.714414Z"
    }
   },
   "outputs": [],
   "source": [
    "import numpy as np\n",
    "from sklearn.datasets import make_regression, make_classification\n",
    "from sklearn.model_selection import train_test_split"
   ]
  },
  {
   "cell_type": "code",
   "execution_count": 18,
   "id": "d138a360",
   "metadata": {
    "ExecuteTime": {
     "end_time": "2023-12-14T13:25:02.237489Z",
     "start_time": "2023-12-14T13:25:02.230616Z"
    }
   },
   "outputs": [],
   "source": [
    "X, y = make_classification(1000, 12, n_informative = 9, n_classes = 3, n_clusters_per_class = 2)"
   ]
  },
  {
   "cell_type": "code",
   "execution_count": 19,
   "id": "350b3b0a",
   "metadata": {
    "ExecuteTime": {
     "end_time": "2023-12-14T13:25:02.906032Z",
     "start_time": "2023-12-14T13:25:02.887580Z"
    }
   },
   "outputs": [
    {
     "data": {
      "text/plain": [
       "array([333, 333, 334], dtype=int64)"
      ]
     },
     "execution_count": 19,
     "metadata": {},
     "output_type": "execute_result"
    }
   ],
   "source": [
    "np.unique(y, return_counts = True)[1]"
   ]
  },
  {
   "cell_type": "code",
   "execution_count": 55,
   "id": "0075b522",
   "metadata": {
    "ExecuteTime": {
     "end_time": "2023-12-14T14:09:55.013807Z",
     "start_time": "2023-12-14T14:09:54.996878Z"
    }
   },
   "outputs": [],
   "source": [
    "class DecisionTreeClassifier():\n",
    "\n",
    "    def __init__(self, max_depth = 10, criterion = 'gini', min_samples_leaf = 2):\n",
    "        self.max_depth = max_depth\n",
    "        self.criterion = criterion\n",
    "        self.min_samples_leaf = min_samples_leaf\n",
    "        pass\n",
    "\n",
    "    def fit(self, X, y):\n",
    "        tree = self.grow_tree(X, y, current_depth = 0)\n",
    "        pass\n",
    "\n",
    "    def predict(self, X):\n",
    "\n",
    "        return preds\n",
    "        pass\n",
    "\n",
    "    def grow_tree(self, X, y, current_depth):\n",
    "        split = self.get_best_splits(X, y)\n",
    "        if split[2] == 'cat':\n",
    "            X_left = X[X[:, split[0]] == split[1]]\n",
    "            X_right = X[X[:, split[0]] != split[1]]\n",
    "            y_left = y[X[:, split[0]] == split[1]]\n",
    "            y_right = y[X[:, split[0]] != split[1]]\n",
    "            left_tree = grow_tree(X_left, y_left, )\n",
    "        left_tree = grow_tree()\n",
    "        return splits\n",
    "\n",
    "    def get_best_splits(self, X, y):\n",
    "        best_split = ['', '', '']\n",
    "        best_information_gain = 0\n",
    "        for i in range(X.shape[1]):\n",
    "            if len(np.unique(X[:, i])) < 10:\n",
    "                for val in np.unique(X[:, i]):\n",
    "                    y_left = y[X[:, i] == val]\n",
    "                    y_right = y[X[:, i] != val]\n",
    "                    information_gain = self.calc_information_gain(y, y_left, y_right)\n",
    "                    if information_gain > best_information_gain:\n",
    "                        best_information_gain = information_gain\n",
    "                        best_split[0] = i\n",
    "                        best_split[1] = val\n",
    "                        best_split[2] = 'cat'\n",
    "            else:\n",
    "                for val in np.unique(X[:, i]):\n",
    "                    y_left = y[X[:, i] == val]\n",
    "                    y_right = y[X[:, i] != val]\n",
    "                    information_gain = self.calc_information_gain(y, y_left, y_right)\n",
    "                    if information_gain > best_information_gain:\n",
    "                        best_information_gain = information_gain\n",
    "                        best_split[0] = i\n",
    "                        best_split[1] = val\n",
    "                        best_split[2] = 'num'\n",
    "        if best_split[0] == '' or best_split[1] == '' or best_split[2] == '':\n",
    "            raise ValueError\n",
    "        return best_split\n",
    "        \n",
    "    def calc_information_gain(self, y, y1, y2):\n",
    "        criterion = self.criterion\n",
    "        if criterion == 'gini':\n",
    "            information_gain = self.gini(y) - (self.gini(y1) + self.gini(y2))\n",
    "        elif criterion == 'entropy':\n",
    "            information_gain = self.entropy(y) - (self.entropy(y1) + self.entropy(y2))\n",
    "        else:\n",
    "            raise AttributeError()\n",
    "        return information_gain\n",
    "\n",
    "    def entropy(self, y):\n",
    "        entropy_ = 0\n",
    "        for i, yi in enumerate(np.unique(y, return_counts = True)[0]):\n",
    "            prob = np.unique(y, return_counts = True)[1][i] / y.shape[0]\n",
    "            entropy_+= prob * np.log2(prob)\n",
    "        return -entropy_\n",
    "\n",
    "    def gini(self, y):\n",
    "        gini_ = 0\n",
    "        for i, yi in enumerate(np.unique(y, return_counts = True)[0]):\n",
    "            prob = np.unique(y, return_counts = True)[1][i] / y.shape[0]\n",
    "            gini_+= 1 - (prob**2)\n",
    "        return gini_\n",
    "\n",
    "\n"
   ]
  },
  {
   "cell_type": "code",
   "execution_count": 56,
   "id": "93f138d2",
   "metadata": {
    "ExecuteTime": {
     "end_time": "2023-12-14T14:09:55.789555Z",
     "start_time": "2023-12-14T14:09:55.773247Z"
    }
   },
   "outputs": [],
   "source": [
    "dt = DecisionTreeClassifier()"
   ]
  },
  {
   "cell_type": "code",
   "execution_count": 57,
   "id": "61ed9fee",
   "metadata": {
    "ExecuteTime": {
     "end_time": "2023-12-14T14:09:58.686396Z",
     "start_time": "2023-12-14T14:09:56.470482Z"
    }
   },
   "outputs": [
    {
     "name": "stdout",
     "output_type": "stream",
     "text": [
      "[0, -2.9254817392696864]\n"
     ]
    }
   ],
   "source": [
    "dt.fit(X, y)"
   ]
  }
 ],
 "metadata": {
  "kernelspec": {
   "display_name": "DL_School",
   "language": "python",
   "name": "dl_school"
  },
  "language_info": {
   "codemirror_mode": {
    "name": "ipython",
    "version": 3
   },
   "file_extension": ".py",
   "mimetype": "text/x-python",
   "name": "python",
   "nbconvert_exporter": "python",
   "pygments_lexer": "ipython3",
   "version": "3.10.10"
  },
  "toc": {
   "base_numbering": 1,
   "nav_menu": {},
   "number_sections": true,
   "sideBar": false,
   "skip_h1_title": false,
   "title_cell": "Table of Contents",
   "title_sidebar": "Contents",
   "toc_cell": true,
   "toc_position": {},
   "toc_section_display": true,
   "toc_window_display": false
  }
 },
 "nbformat": 4,
 "nbformat_minor": 5
}
