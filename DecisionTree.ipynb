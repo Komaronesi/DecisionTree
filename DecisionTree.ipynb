{
 "cells": [
  {
   "cell_type": "markdown",
   "id": "d17de088",
   "metadata": {
    "toc": true
   },
   "source": [
    "<h1>Table of Contents<span class=\"tocSkip\"></span></h1>\n",
    "<div class=\"toc\"><ul class=\"toc-item\"></ul></div>"
   ]
  },
  {
   "cell_type": "code",
   "execution_count": 1,
   "id": "0c8a4fa4",
   "metadata": {
    "ExecuteTime": {
     "end_time": "2023-12-14T13:20:45.790826Z",
     "start_time": "2023-12-14T13:20:41.714414Z"
    }
   },
   "outputs": [],
   "source": [
    "import numpy as np\n",
    "from sklearn.datasets import make_regression, make_classification\n",
    "from sklearn.model_selection import train_test_split"
   ]
  },
  {
   "cell_type": "code",
   "execution_count": 18,
   "id": "d345ca2b",
   "metadata": {
    "ExecuteTime": {
     "end_time": "2023-12-14T13:25:02.237489Z",
     "start_time": "2023-12-14T13:25:02.230616Z"
    }
   },
   "outputs": [],
   "source": [
    "X, y = make_classification(1000, 12, n_informative = 9, n_classes = 3, n_clusters_per_class = 2)"
   ]
  },
  {
   "cell_type": "code",
   "execution_count": 19,
   "id": "9cc8d709",
   "metadata": {
    "ExecuteTime": {
     "end_time": "2023-12-14T13:25:02.906032Z",
     "start_time": "2023-12-14T13:25:02.887580Z"
    }
   },
   "outputs": [
    {
     "data": {
      "text/plain": [
       "array([333, 333, 334], dtype=int64)"
      ]
     },
     "execution_count": 19,
     "metadata": {},
     "output_type": "execute_result"
    }
   ],
   "source": [
    "np.unique(y, return_counts = True)[1]"
   ]
  },
  {
   "cell_type": "code",
   "execution_count": 119,
   "id": "65895fac",
   "metadata": {
    "ExecuteTime": {
     "end_time": "2023-12-14T19:43:57.972996Z",
     "start_time": "2023-12-14T19:43:57.966082Z"
    }
   },
   "outputs": [],
   "source": [
    "class Node():\n",
    "    \n",
    "    def __init__(self, feature, value, kind, l_answer = None, r_answer = None):\n",
    "        self.feature = feature\n",
    "        self.value = value\n",
    "        self.kind = kind\n",
    "        self.l_answer = l_answer\n",
    "        self.r_answer = r_answer\n",
    "    \n",
    "    def split(self, left_node, right_node):\n",
    "        self.left_node = left_node\n",
    "        self.right_node = right_node\n",
    "        if not isinstance(self.left_node, Node):\n",
    "            self.l_answer = self.left_node\n",
    "        if not isinstance(self.right_node, Node):\n",
    "            self.r_answer = self.right_node"
   ]
  },
  {
   "cell_type": "code",
   "execution_count": 120,
   "id": "31507a71",
   "metadata": {
    "ExecuteTime": {
     "end_time": "2023-12-14T19:43:58.470914Z",
     "start_time": "2023-12-14T19:43:58.447571Z"
    }
   },
   "outputs": [],
   "source": [
    "class DecisionTreeClassifier():\n",
    "\n",
    "    def __init__(self, max_depth = 6, criterion = 'gini', min_samples_leaf = 2):\n",
    "        self.max_depth = max_depth\n",
    "        self.criterion = criterion\n",
    "        self.min_samples_leaf = min_samples_leaf\n",
    "        self.root_node = None\n",
    "        pass\n",
    "\n",
    "    def fit(self, X, y):\n",
    "        tree = self.grow_tree(X, y, current_depth = 0)\n",
    "        pass\n",
    "\n",
    "    def predict(self, X):\n",
    "\n",
    "        return preds\n",
    "        pass\n",
    "\n",
    "    def grow_tree(self, X, y, current_depth):\n",
    "        \n",
    "        split = self.get_best_splits(X, y)\n",
    "        if not isinstance(split, list):\n",
    "            return split\n",
    "        current_node = Node(split[0], split[1], split[2])\n",
    "        if self.root_node is None:\n",
    "            self.root_node = current_node\n",
    "            \n",
    "        \n",
    "        current_depth = current_depth + 1\n",
    "                                      \n",
    "        if isinstance(split, list):\n",
    "            if current_depth >= self.max_depth:\n",
    "                return split\n",
    "    \n",
    "            if split[2] == 'cat':\n",
    "                X_left = X[X[:, split[0]] == split[1]]\n",
    "                X_right = X[X[:, split[0]] != split[1]]\n",
    "                y_left = y[X[:, split[0]] == split[1]]\n",
    "                y_right = y[X[:, split[0]] != split[1]]\n",
    "                #left_tree = self.grow_tree(X_left, y_left, current_depth)\n",
    "                #right_tree = self.grow_tree(X_right, y_right, current_depth)\n",
    "                current_node.split(self.grow_tree(X_left, y_left, current_depth), self.grow_tree(X_right, y_right, current_depth))\n",
    "            elif split[2] == 'num':\n",
    "                X_left = X[X[:, split[0]] < split[1]]\n",
    "                X_right = X[X[:, split[0]] >= split[1]]\n",
    "                y_left = y[X[:, split[0]] < split[1]]\n",
    "                y_right = y[X[:, split[0]] >= split[1]]\n",
    "                #left_tree = self.grow_tree(X_left, y_left, current_depth)\n",
    "                #right_tree = self.grow_tree(X_right, y_right, current_depth)\n",
    "                current_node.split(self.grow_tree(X_left, y_left, current_depth), self.grow_tree(X_right, y_right, current_depth))\n",
    "            else:\n",
    "                raise ValueError\n",
    "        return current_node\n",
    "\n",
    "    def get_best_splits(self, X, y):\n",
    "        best_split = ['', '', '']\n",
    "        best_information_gain = 0\n",
    "        for i in range(X.shape[1]):\n",
    "            if len(np.unique(X[:, i])) < 10:\n",
    "                for val in np.unique(X[:, i]):\n",
    "                    y_left = y[X[:, i] == val]\n",
    "                    y_right = y[X[:, i] != val]\n",
    "                    information_gain = self.calc_information_gain(y, y_left, y_right)\n",
    "                    if information_gain > best_information_gain:\n",
    "                        best_information_gain = information_gain\n",
    "                        best_split[0] = i\n",
    "                        best_split[1] = val\n",
    "                        best_split[2] = 'cat'\n",
    "            else:\n",
    "                for val in np.unique(X[:, i]):\n",
    "                    y_left = y[X[:, i] < val]\n",
    "                    y_right = y[X[:, i] >= val]\n",
    "                    information_gain = self.calc_information_gain(y, y_left, y_right)\n",
    "                    if information_gain > best_information_gain:\n",
    "                        best_information_gain = information_gain\n",
    "                        best_split[0] = i\n",
    "                        best_split[1] = val\n",
    "                        best_split[2] = 'num'\n",
    "        if best_split[0] == '' or best_split[1] == '' or best_split[2] == '':\n",
    "            return np.unique(y)[0]\n",
    "        return best_split\n",
    "        \n",
    "    def calc_information_gain(self, y, y1, y2):\n",
    "        criterion = self.criterion\n",
    "        if criterion == 'gini':\n",
    "            information_gain = self.gini(y) - (len(y1) / len(y) * self.gini(y1) + len(y2) / len(y) * self.gini(y2))\n",
    "        elif criterion == 'entropy':\n",
    "            information_gain = self.entropy(y) - (len(y1) / len(y) * self.entropy(y1) + len(y2) / len(y) * self.entropy(y2))\n",
    "        else:\n",
    "            raise AttributeError()\n",
    "        return information_gain\n",
    "\n",
    "    def entropy(self, y):\n",
    "        entropy_ = 0\n",
    "        for i, yi in enumerate(np.unique(y, return_counts = True)[0]):\n",
    "            prob = np.unique(y, return_counts = True)[1][i] / y.shape[0]\n",
    "            entropy_+= prob * np.log2(prob)\n",
    "        return -entropy_\n",
    "\n",
    "    def gini(self, y):\n",
    "        gini_ = 0\n",
    "        for i, yi in enumerate(np.unique(y, return_counts = True)[0]):\n",
    "            prob = np.unique(y, return_counts = True)[1][i] / y.shape[0]\n",
    "            gini_+= 1 - (prob**2)\n",
    "        return gini_\n",
    "\n",
    "\n"
   ]
  },
  {
   "cell_type": "code",
   "execution_count": 121,
   "id": "d6b0f788",
   "metadata": {
    "ExecuteTime": {
     "end_time": "2023-12-14T19:43:59.006168Z",
     "start_time": "2023-12-14T19:43:58.989893Z"
    }
   },
   "outputs": [],
   "source": [
    "dt = DecisionTreeClassifier()"
   ]
  },
  {
   "cell_type": "code",
   "execution_count": 122,
   "id": "233c6111",
   "metadata": {
    "ExecuteTime": {
     "end_time": "2023-12-14T19:44:12.539855Z",
     "start_time": "2023-12-14T19:43:59.497884Z"
    }
   },
   "outputs": [],
   "source": [
    "dt.fit(X, y)"
   ]
  },
  {
   "cell_type": "code",
   "execution_count": 129,
   "id": "c9e718c7",
   "metadata": {
    "ExecuteTime": {
     "end_time": "2023-12-14T19:44:38.191344Z",
     "start_time": "2023-12-14T19:44:38.174824Z"
    }
   },
   "outputs": [
    {
     "data": {
      "text/plain": [
       "2"
      ]
     },
     "execution_count": 129,
     "metadata": {},
     "output_type": "execute_result"
    }
   ],
   "source": [
    "dt.root_node.left_node.left_node.left_node.l_answer"
   ]
  },
  {
   "cell_type": "code",
   "execution_count": null,
   "id": "c951fd76",
   "metadata": {},
   "outputs": [],
   "source": []
  },
  {
   "cell_type": "code",
   "execution_count": null,
   "id": "835115a9",
   "metadata": {},
   "outputs": [],
   "source": []
  }
 ],
 "metadata": {
  "kernelspec": {
   "display_name": "DL_School",
   "language": "python",
   "name": "dl_school"
  },
  "language_info": {
   "codemirror_mode": {
    "name": "ipython",
    "version": 3
   },
   "file_extension": ".py",
   "mimetype": "text/x-python",
   "name": "python",
   "nbconvert_exporter": "python",
   "pygments_lexer": "ipython3",
   "version": "3.10.10"
  },
  "toc": {
   "base_numbering": 1,
   "nav_menu": {},
   "number_sections": true,
   "sideBar": false,
   "skip_h1_title": false,
   "title_cell": "Table of Contents",
   "title_sidebar": "Contents",
   "toc_cell": true,
   "toc_position": {},
   "toc_section_display": true,
   "toc_window_display": false
  }
 },
 "nbformat": 4,
 "nbformat_minor": 5
}
