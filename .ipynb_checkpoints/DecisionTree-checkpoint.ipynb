{
 "cells": [
  {
   "cell_type": "markdown",
   "id": "a4adcfc5",
   "metadata": {
    "toc": true
   },
   "source": [
    "<h1>Table of Contents<span class=\"tocSkip\"></span></h1>\n",
    "<div class=\"toc\"><ul class=\"toc-item\"></ul></div>"
   ]
  },
  {
   "cell_type": "code",
   "execution_count": 167,
   "id": "e60e6ae2",
   "metadata": {
    "ExecuteTime": {
     "end_time": "2023-12-18T15:53:45.248060Z",
     "start_time": "2023-12-18T15:53:45.230072Z"
    }
   },
   "outputs": [],
   "source": [
    "import numpy as np\n",
    "from sklearn.datasets import make_regression, make_classification, load_iris, load_wine, load_breast_cancer, load_diabetes\n",
    "from sklearn.model_selection import train_test_split\n",
    "from sklearn.metrics import f1_score, accuracy_score\n",
    "from sklearn.tree import DecisionTreeClassifier as DTC\n",
    "from sklearn.tree import plot_tree\n",
    "from matplotlib import pyplot as plt\n",
    "import seaborn as sns\n",
    "from sklearn.decomposition import PCA\n",
    "from sklearn.model_selection import train_test_split"
   ]
  },
  {
   "cell_type": "code",
   "execution_count": 128,
   "id": "084c0157",
   "metadata": {
    "ExecuteTime": {
     "end_time": "2023-12-16T20:37:28.712930Z",
     "start_time": "2023-12-16T20:37:28.652857Z"
    }
   },
   "outputs": [],
   "source": [
    "#X, y = make_classification(1000, 12, n_informative = 9, n_classes = 3, n_clusters_per_class = 2)\n",
    "X, y = load_breast_cancer(return_X_y = True)"
   ]
  },
  {
   "cell_type": "code",
   "execution_count": 129,
   "id": "ea7d12d0",
   "metadata": {
    "ExecuteTime": {
     "end_time": "2023-12-16T20:37:31.482564Z",
     "start_time": "2023-12-16T20:37:31.463190Z"
    }
   },
   "outputs": [],
   "source": [
    "class Node():\n",
    "    '''Auxilary class used for building a decision tree\n",
    "    '''\n",
    "    \n",
    "    def __init__(self, feature, value, kind, l_answer = None, r_answer = None):\n",
    "        self.feature = feature\n",
    "        self.value = value\n",
    "        self.kind = kind\n",
    "        self.l_answer = l_answer\n",
    "        self.r_answer = r_answer\n",
    "    \n",
    "    def split(self, left_node, right_node):\n",
    "        self.left_node = left_node\n",
    "        self.right_node = right_node\n",
    "        if not isinstance(self.left_node, Node):\n",
    "            self.l_answer = self.left_node\n",
    "        if not isinstance(self.right_node, Node):\n",
    "            self.r_answer = self.right_node"
   ]
  },
  {
   "cell_type": "code",
   "execution_count": 156,
   "id": "372444e1",
   "metadata": {
    "ExecuteTime": {
     "end_time": "2023-12-18T00:24:31.529465Z",
     "start_time": "2023-12-18T00:24:31.497326Z"
    }
   },
   "outputs": [],
   "source": [
    "class DecisionTreeClassifier():\n",
    "    '''The base class for building and utilizing a decision tree for classfification problem\n",
    "    Attributes\n",
    "    ----------\n",
    "    max_depth : int\n",
    "        Maximal depth for decision tree. Limits the growth at a given number of consecutive splits.\n",
    "    criterion : str\n",
    "        Type of splitting criterion to use. Availible options are 'gini' and 'entropy'.\n",
    "    min_samples_leaf : int\n",
    "        Minimum number of samples demanded for producing a split. If number of samples is lower than this limit,\n",
    "        splitting process would be aborted.\n",
    "    \n",
    "    Methods\n",
    "    -------\n",
    "    fit(X, y)\n",
    "        Fits a decision tree on a given data. Can be interpreted as learning process\n",
    "    predict(X)\n",
    "        Gives a prediction based on a given data\n",
    "    \n",
    "    \n",
    "    '''\n",
    "    \n",
    "    \n",
    "    def __init__(self, max_depth = 6, criterion = 'gini', min_samples_leaf = 2):\n",
    "        '''Constructor'''\n",
    "        self.max_depth = max_depth\n",
    "        self.criterion = criterion\n",
    "        self.min_samples_leaf = min_samples_leaf\n",
    "        self.root_node = None\n",
    "\n",
    "    def fit(self, X, y):\n",
    "        tree = self._grow_tree(X, y, current_depth = 0)\n",
    "\n",
    "    def predict(self, X):\n",
    "        num_samples = X.shape[0]\n",
    "        preds = np.empty(num_samples, dtype = np.int64)\n",
    "        for sample in range(num_samples):\n",
    "            preds[sample] = self._forward(X[sample])\n",
    "        return preds\n",
    "\n",
    "    def _grow_tree(self, X, y, current_depth):\n",
    "        \n",
    "        if X.shape[0] <= self.min_samples_leaf:\n",
    "            return np.unique(y)[np.argmax(np.unique(y, return_counts = True)[1])]\n",
    "        split_result = self._get_best_splits(X, y)\n",
    "        if not isinstance(split_result, dict):\n",
    "            return split_result\n",
    "        current_node = Node(split_result['feature'], split_result['value'], split_result['kind'])\n",
    "        if self.root_node is None:\n",
    "            self.root_node = current_node\n",
    "        current_depth = current_depth + 1\n",
    "                                      \n",
    "        if isinstance(split_result, dict):\n",
    "    \n",
    "            if current_depth > self.max_depth:\n",
    "                return np.unique(y)[np.argmax(np.unique(y, return_counts = True)[1])]\n",
    "    \n",
    "            if split_result['kind'] == 'cat':\n",
    "                X_left = X[X[:, split_result['feature']] == split_result['value']]\n",
    "                X_right = X[X[:, split_result['feature']] != split_result['value']]\n",
    "                y_left = y[X[:, split_result['feature']] == split_result['value']]\n",
    "                y_right = y[X[:, split_result['feature']] != split_result['value']]\n",
    "                current_node.split(self._grow_tree(X_left, y_left, current_depth),\n",
    "                                   self._grow_tree(X_right, y_right, current_depth))\n",
    "            elif split_result['kind'] == 'num':\n",
    "                X_left = X[X[:, split_result['feature']] < split_result['value']]\n",
    "                X_right = X[X[:, split_result['feature']] >= split_result['value']]\n",
    "                y_left = y[X[:, split_result['feature']] < split_result['value']]\n",
    "                y_right = y[X[:, split_result['feature']] >= split_result['value']]\n",
    "                current_node.split(self._grow_tree(X_left, y_left, current_depth),\n",
    "                                   self._grow_tree(X_right, y_right, current_depth))\n",
    "            else:\n",
    "                raise ValueError\n",
    "        return current_node\n",
    "\n",
    "    def _get_best_splits(self, X, y):\n",
    "        best_split = ['', '', '']\n",
    "        best_information_gain = 0\n",
    "        for i in range(X.shape[1]):\n",
    "            if len(np.unique(X[:, i])) < 10:\n",
    "                for val in np.unique(X[:, i]):\n",
    "                    y_left = y[X[:, i] == val]\n",
    "                    y_right = y[X[:, i] != val]\n",
    "                    information_gain = self._calc_information_gain(y, y_left, y_right)\n",
    "                    if information_gain > best_information_gain:\n",
    "                        best_information_gain = information_gain\n",
    "                        best_split[0] = i\n",
    "                        best_split[1] = val\n",
    "                        best_split[2] = 'cat'\n",
    "            else:\n",
    "                for val in np.unique(X[:, i]):\n",
    "                    y_left = y[X[:, i] < val]\n",
    "                    y_right = y[X[:, i] >= val]\n",
    "                    information_gain = self._calc_information_gain(y, y_left, y_right)\n",
    "                    if information_gain > best_information_gain:\n",
    "                        best_information_gain = information_gain\n",
    "                        best_split[0] = i\n",
    "                        best_split[1] = val\n",
    "                        best_split[2] = 'num'\n",
    "        if best_split[0] == '' or best_split[1] == '' or best_split[2] == '':\n",
    "            return np.unique(y)[0]\n",
    "        return {'feature': best_split[0], 'value': best_split[1], 'kind': best_split[2]}\n",
    "        \n",
    "    def _calc_information_gain(self, y, y1, y2):\n",
    "        criterion = self.criterion\n",
    "        if criterion == 'gini':\n",
    "            information_gain = self._gini(y) - (len(y1) / len(y) * self._gini(y1) + len(y2) / len(y) * self._gini(y2))\n",
    "        elif criterion == 'entropy':\n",
    "            information_gain = self._entropy(y) - (len(y1) / len(y) * self._entropy(y1) + len(y2) / len(y) * self._entropy(y2))\n",
    "        else:\n",
    "            raise AttributeError(f'Attribute {criterion} is not allowed. Only \"gini\" and \"entropy\" are legal variants')\n",
    "        return information_gain\n",
    "\n",
    "    def _entropy(self, y):\n",
    "        entropy = 0\n",
    "        for i, yi in enumerate(np.unique(y, return_counts = True)[0]):\n",
    "            prob = np.unique(y, return_counts = True)[1][i] / y.shape[0]\n",
    "            entropy += prob * np.log2(prob)\n",
    "        return -entropy\n",
    "\n",
    "    def _gini(self, y):\n",
    "        gini = 0\n",
    "        for i, yi in enumerate(np.unique(y, return_counts = True)[0]):\n",
    "            prob = np.unique(y, return_counts = True)[1][i] / y.shape[0]\n",
    "            gini += 1 - (prob**2)\n",
    "        return gini\n",
    "    \n",
    "    def _forward(self, X):\n",
    "        answer = None\n",
    "        node = self.root_node\n",
    "        while answer is None:\n",
    "            feature = node.feature\n",
    "            value = node.value\n",
    "            kind = node.kind\n",
    "            if X[feature] < value:\n",
    "                if node.l_answer is not None:\n",
    "                    return node.l_answer\n",
    "                node = node.left_node\n",
    "            else:\n",
    "                if node.r_answer is not None:\n",
    "                    return node.r_answer\n",
    "                node = node.right_node\n",
    "\n"
   ]
  },
  {
   "cell_type": "code",
   "execution_count": 165,
   "id": "081288cb",
   "metadata": {
    "ExecuteTime": {
     "end_time": "2023-12-18T15:52:52.897721Z",
     "start_time": "2023-12-18T15:52:52.865551Z"
    }
   },
   "outputs": [],
   "source": [
    "class DecisionTreeRegressor():\n",
    "    '''The base class for building and utilizing a decision tree for regression problem\n",
    "    Attributes\n",
    "    ----------\n",
    "    max_depth : int\n",
    "        Maximal depth for decision tree. Limits the growth at a given number of consecutive splits.\n",
    "    criterion : str\n",
    "        Type of splitting criterion to use. Availible options are 'MSE' and 'MAE'.\n",
    "    min_samples_leaf : int\n",
    "        Minimum number of samples demanded for producing a split. If number of samples is lower than this limit,\n",
    "        splitting process would be aborted.\n",
    "    \n",
    "    Methods\n",
    "    -------\n",
    "    fit(X, y)\n",
    "        Fits a decision tree on a given data. Can be interpreted as learning process\n",
    "    predict(X)\n",
    "        Gives a prediction based on a given data\n",
    "    \n",
    "    \n",
    "    '''\n",
    "    \n",
    "    \n",
    "    def __init__(self, max_depth = 6, criterion = 'MSE', min_samples_leaf = 2):\n",
    "        '''Constructor\n",
    "        '''\n",
    "        self.max_depth = max_depth\n",
    "        self.criterion = criterion\n",
    "        self.min_samples_leaf = min_samples_leaf\n",
    "        self.root_node = None\n",
    "\n",
    "    def fit(self, X, y):\n",
    "        tree = self._grow_tree(X, y, current_depth = 0)\n",
    "\n",
    "    def predict(self, X):\n",
    "        num_samples = X.shape[0]\n",
    "        preds = np.empty(num_samples, dtype = np.int64)\n",
    "        for sample in range(num_samples):\n",
    "            preds[sample] = self._forward(X[sample])\n",
    "        return preds\n",
    "\n",
    "    def _grow_tree(self, X, y, current_depth):\n",
    "        \n",
    "        if X.shape[0] <= self.min_samples_leaf:\n",
    "            return y.mean()\n",
    "        split_result = self._get_best_splits(X, y)\n",
    "        if not isinstance(split_result, dict):\n",
    "            return split_result\n",
    "        current_node = Node(split_result['feature'], split_result['value'], split_result['kind'])\n",
    "        if self.root_node is None:\n",
    "            self.root_node = current_node\n",
    "        current_depth = current_depth + 1\n",
    "                                      \n",
    "        if isinstance(split_result, dict):\n",
    "    \n",
    "            if current_depth > self.max_depth:\n",
    "                return y.mean()\n",
    "    \n",
    "            if split_result['kind'] == 'cat':\n",
    "                X_left = X[X[:, split_result['feature']] == split_result['value']]\n",
    "                X_right = X[X[:, split_result['feature']] != split_result['value']]\n",
    "                y_left = y[X[:, split_result['feature']] == split_result['value']]\n",
    "                y_right = y[X[:, split_result['feature']] != split_result['value']]\n",
    "                current_node.split(self._grow_tree(X_left, y_left, current_depth),\n",
    "                                   self._grow_tree(X_right, y_right, current_depth))\n",
    "            elif split_result['kind'] == 'num':\n",
    "                X_left = X[X[:, split_result['feature']] < split_result['value']]\n",
    "                X_right = X[X[:, split_result['feature']] >= split_result['value']]\n",
    "                y_left = y[X[:, split_result['feature']] < split_result['value']]\n",
    "                y_right = y[X[:, split_result['feature']] >= split_result['value']]\n",
    "                current_node.split(self._grow_tree(X_left, y_left, current_depth),\n",
    "                                   self._grow_tree(X_right, y_right, current_depth))\n",
    "            else:\n",
    "                raise ValueError\n",
    "        return current_node\n",
    "\n",
    "    def _get_best_splits(self, X, y):\n",
    "        best_split = ['', '', '']\n",
    "        best_error_decrease = 0\n",
    "        for i in range(X.shape[1]):\n",
    "            if len(np.unique(X[:, i])) < 10:\n",
    "                for val in np.unique(X[:, i]):\n",
    "                    y_left = y[X[:, i] == val]\n",
    "                    y_right = y[X[:, i] != val]\n",
    "                    error_decrease = self._calc_error(y, y_left, y_right)\n",
    "                    if error_decrease < best_error_decrease:\n",
    "                        best_error_decrease = error_decrease\n",
    "                        best_split[0] = i\n",
    "                        best_split[1] = val\n",
    "                        best_split[2] = 'cat'\n",
    "            else:\n",
    "                for val in np.unique(X[:, i]):\n",
    "                    y_left = y[X[:, i] < val]\n",
    "                    y_right = y[X[:, i] >= val]\n",
    "                    error_decrease = self._calc_error(y, y_left, y_right)\n",
    "                    if error_decrease < best_error_decrease:\n",
    "                        best_error_decrease = error_decrease\n",
    "                        best_split[0] = i\n",
    "                        best_split[1] = val\n",
    "                        best_split[2] = 'num'\n",
    "        if best_split[0] == '' or best_split[1] == '' or best_split[2] == '':\n",
    "            return y.mean()\n",
    "        return {'feature': best_split[0], 'value': best_split[1], 'kind': best_split[2]}\n",
    "        \n",
    "    def _calc_error(self, y, y1, y2):\n",
    "        criterion = self.criterion\n",
    "        if criterion == 'MSE':\n",
    "            error = self._MSE(y) - (self._MSE(y1) +  self._MSE(y2))\n",
    "        elif criterion == 'MAE':\n",
    "            error = self._MAE(y) - (self._MAE(y1) + self._MAE(y2))\n",
    "        else:\n",
    "            raise AttributeError(f'Attribute {criterion} is not allowed. Only \"gini\" and \"entropy\" are legal variants')\n",
    "        return -error\n",
    "\n",
    "    def _MSE(self, y):\n",
    "        return y.std()\n",
    "\n",
    "    def _MAE(self, y):\n",
    "        return np.mean(np.abs(y - y.mean()))\n",
    "    \n",
    "    def _forward(self, X):\n",
    "        answer = None\n",
    "        node = self.root_node\n",
    "        while answer is None:\n",
    "            feature = node.feature\n",
    "            value = node.value\n",
    "            kind = node.kind\n",
    "            if X[feature] < value:\n",
    "                if node.l_answer is not None:\n",
    "                    return node.l_answer\n",
    "                node = node.left_node\n",
    "            else:\n",
    "                if node.r_answer is not None:\n",
    "                    return node.r_answer\n",
    "                node = node.right_node\n",
    "\n"
   ]
  },
  {
   "cell_type": "code",
   "execution_count": 166,
   "id": "e4c629d3",
   "metadata": {
    "ExecuteTime": {
     "end_time": "2023-12-18T15:52:53.777308Z",
     "start_time": "2023-12-18T15:52:53.773209Z"
    }
   },
   "outputs": [],
   "source": [
    "dtr = DecisionTreeRegressor()"
   ]
  },
  {
   "cell_type": "code",
   "execution_count": 169,
   "id": "8c5032ea",
   "metadata": {
    "ExecuteTime": {
     "end_time": "2023-12-18T15:54:01.146142Z",
     "start_time": "2023-12-18T15:54:01.095499Z"
    }
   },
   "outputs": [],
   "source": [
    "X, y = load_diabetes(return_X_y = True)"
   ]
  },
  {
   "cell_type": "code",
   "execution_count": 170,
   "id": "b0190c18",
   "metadata": {
    "ExecuteTime": {
     "end_time": "2023-12-18T15:54:10.751733Z",
     "start_time": "2023-12-18T15:54:10.297281Z"
    }
   },
   "outputs": [
    {
     "name": "stderr",
     "output_type": "stream",
     "text": [
      "C:\\Users\\Ilia\\.conda\\envs\\DL_School\\lib\\site-packages\\numpy\\core\\_methods.py:265: RuntimeWarning: Degrees of freedom <= 0 for slice\n",
      "  ret = _var(a, axis=axis, dtype=dtype, out=out, ddof=ddof,\n",
      "C:\\Users\\Ilia\\.conda\\envs\\DL_School\\lib\\site-packages\\numpy\\core\\_methods.py:223: RuntimeWarning: invalid value encountered in divide\n",
      "  arrmean = um.true_divide(arrmean, div, out=arrmean, casting='unsafe',\n",
      "C:\\Users\\Ilia\\.conda\\envs\\DL_School\\lib\\site-packages\\numpy\\core\\_methods.py:257: RuntimeWarning: invalid value encountered in double_scalars\n",
      "  ret = ret.dtype.type(ret / rcount)\n"
     ]
    }
   ],
   "source": [
    "dtr.fit(X, y)"
   ]
  },
  {
   "cell_type": "code",
   "execution_count": 186,
   "id": "a250d79f",
   "metadata": {
    "ExecuteTime": {
     "end_time": "2023-12-18T15:56:19.742144Z",
     "start_time": "2023-12-18T15:56:19.734818Z"
    }
   },
   "outputs": [
    {
     "data": {
      "text/plain": [
       "346.0"
      ]
     },
     "execution_count": 186,
     "metadata": {},
     "output_type": "execute_result"
    }
   ],
   "source": [
    "dtr.root_node.right_node.right_node.left_node.right_node"
   ]
  },
  {
   "cell_type": "code",
   "execution_count": 173,
   "id": "9e9087ae",
   "metadata": {
    "ExecuteTime": {
     "end_time": "2023-12-18T15:54:41.679362Z",
     "start_time": "2023-12-18T15:54:41.663357Z"
    }
   },
   "outputs": [
    {
     "data": {
      "text/plain": [
       "array([150, 150, 150, 150, 150, 150, 150, 150, 150, 150, 150, 150, 150,\n",
       "       150, 150, 150, 150, 150, 150, 150, 150, 150, 150, 150, 150, 150,\n",
       "       150, 150, 150, 150, 150, 150, 341, 150, 150, 150, 150, 150, 150,\n",
       "       150, 150, 150, 150, 150, 150, 150, 150, 150, 150, 150, 150, 150,\n",
       "       150, 150, 150, 150, 150, 150, 150, 150, 150, 150, 150, 150, 150,\n",
       "       150, 150, 150, 150, 150, 150, 150, 150, 150, 150, 150, 150, 150,\n",
       "       150, 150, 150, 150, 150, 150, 150, 150, 150, 150, 150, 150, 150,\n",
       "       150, 150, 150, 150, 150, 150, 150, 150, 150, 150, 150, 150, 150,\n",
       "       150, 150, 150, 150, 150, 150, 150, 150, 150, 150, 150, 150, 150,\n",
       "       150, 150, 150, 150, 150, 150, 150, 150, 150, 150, 150, 150, 150,\n",
       "       150, 150, 150, 150, 150, 150, 150, 150, 150, 150, 150, 150, 150,\n",
       "       150, 150, 259, 150, 150, 150, 150, 150, 150, 150, 150, 150, 150,\n",
       "       150, 150, 150, 150, 150, 150, 150, 150, 150, 150, 150, 150, 150,\n",
       "       150, 150, 150, 150, 150, 150, 150, 150, 150, 150, 150, 150, 150,\n",
       "       150, 150, 150, 150, 150, 150, 150, 150, 150, 150, 150, 150, 150,\n",
       "       150, 150, 150, 150, 150, 150, 150, 150, 150, 150, 150, 150, 150,\n",
       "       150, 150, 150, 150, 150, 150, 150, 150, 150, 150, 150, 150, 150,\n",
       "       150, 150, 150, 150, 150, 150, 150, 150, 150, 150, 150, 150, 150,\n",
       "       150, 150, 150, 150, 150, 150, 150, 150, 150, 150, 150, 150, 150,\n",
       "       150, 150, 150, 150, 150, 150, 150, 150, 150, 346, 150, 150, 150,\n",
       "       150, 150, 150, 150, 150, 150, 150, 150, 150, 150, 150, 150, 150,\n",
       "       150, 150, 150, 150, 150, 150, 150, 150, 150, 150, 150, 150, 150,\n",
       "       150, 150, 150, 150, 150, 150, 150, 150, 150, 150, 150, 150, 150,\n",
       "       150, 150, 150, 150, 150, 150, 150, 150, 150, 150, 150, 150, 150,\n",
       "       150, 150, 150, 150, 150, 150, 150, 150, 150, 150, 150, 150, 150,\n",
       "       150, 150, 150, 150, 150, 150, 150, 150, 150, 150, 150, 150, 150,\n",
       "       150, 150, 150, 150, 150, 150, 150, 150, 150, 150, 150, 150, 150,\n",
       "       150, 150, 150, 150, 150, 150, 150, 150, 150, 150, 150, 150, 150,\n",
       "       150, 150, 233, 242, 150, 150, 150, 150, 150, 150, 150, 150, 150,\n",
       "       150, 150,  40, 150, 150, 150, 150, 150, 150, 150, 150, 150, 150,\n",
       "       150, 150, 150, 150, 150, 150, 150, 150, 150, 150, 150, 150, 150,\n",
       "       150, 150, 150, 150, 150, 150, 150, 150, 150, 150, 150, 150, 150,\n",
       "       150, 150, 150, 150, 150, 150, 150, 150, 150, 150, 150, 150, 150,\n",
       "       150, 150, 150, 150, 150, 150, 150, 150, 150, 150, 150, 150, 150],\n",
       "      dtype=int64)"
      ]
     },
     "execution_count": 173,
     "metadata": {},
     "output_type": "execute_result"
    }
   ],
   "source": [
    "dtr.predict(X)"
   ]
  },
  {
   "cell_type": "code",
   "execution_count": 152,
   "id": "c53fbcdf",
   "metadata": {
    "ExecuteTime": {
     "end_time": "2023-12-18T00:23:45.170383Z",
     "start_time": "2023-12-18T00:23:45.153229Z"
    }
   },
   "outputs": [],
   "source": [
    "X_train, X_test, y_train, y_test = train_test_split(X, y, test_size = 0.2, random_state = 42)"
   ]
  },
  {
   "cell_type": "code",
   "execution_count": 153,
   "id": "ab4c7132",
   "metadata": {
    "ExecuteTime": {
     "end_time": "2023-12-18T00:23:53.983661Z",
     "start_time": "2023-12-18T00:23:46.678870Z"
    }
   },
   "outputs": [
    {
     "name": "stdout",
     "output_type": "stream",
     "text": [
      "[1]\n",
      "[1]\n",
      "[0]\n",
      "[1]\n",
      "[1]\n",
      "[0]\n",
      "[1]\n",
      "[0]\n",
      "[0]\n",
      "f1: 0.964537136359107\n",
      "accuracy: 0.9649122807017544\n"
     ]
    }
   ],
   "source": [
    "dt = DecisionTreeClassifier(max_depth = 12, criterion = 'entropy', min_samples_leaf = 2)\n",
    "dt.fit(X_train, y_train)\n",
    "preds = dt.predict(X_test)\n",
    "print(f'f1: {f1_score(y_test, preds, average = \"weighted\")}')\n",
    "print(f'accuracy: {accuracy_score(y_test, preds)}')"
   ]
  },
  {
   "cell_type": "code",
   "execution_count": 155,
   "id": "df12dda5",
   "metadata": {
    "ExecuteTime": {
     "end_time": "2023-12-18T00:24:19.806620Z",
     "start_time": "2023-12-18T00:24:19.785354Z"
    }
   },
   "outputs": [
    {
     "name": "stdout",
     "output_type": "stream",
     "text": [
      "0.9384499917007656\n",
      "0.9385964912280702\n"
     ]
    }
   ],
   "source": [
    "dtc = DTC(max_depth = 12, criterion = 'gini')\n",
    "dtc.fit(X_train, y_train)\n",
    "preds_sk = dtc.predict(X_test)\n",
    "print(f1_score(y_test, preds_sk, average = 'weighted'))\n",
    "print(accuracy_score(y_test, preds_sk))"
   ]
  },
  {
   "cell_type": "code",
   "execution_count": 149,
   "id": "23b22132",
   "metadata": {
    "ExecuteTime": {
     "end_time": "2023-12-16T20:39:42.322901Z",
     "start_time": "2023-12-16T20:39:42.312807Z"
    }
   },
   "outputs": [
    {
     "data": {
      "text/plain": [
       "0.05182"
      ]
     },
     "execution_count": 149,
     "metadata": {},
     "output_type": "execute_result"
    }
   ],
   "source": [
    "dt.root_node.value"
   ]
  },
  {
   "cell_type": "code",
   "execution_count": 146,
   "id": "5881e74a",
   "metadata": {
    "ExecuteTime": {
     "end_time": "2023-12-16T20:39:11.697628Z",
     "start_time": "2023-12-16T20:39:11.573239Z"
    }
   },
   "outputs": [
    {
     "data": {
      "text/plain": [
       "[Text(0.5, 0.75, 'x[7] <= 0.051\\ngini = 0.467\\nsamples = 455\\nvalue = [169, 286]'),\n",
       " Text(0.25, 0.25, 'gini = 0.107\\nsamples = 282\\nvalue = [16, 266]'),\n",
       " Text(0.75, 0.25, 'gini = 0.204\\nsamples = 173\\nvalue = [153, 20]')]"
      ]
     },
     "execution_count": 146,
     "metadata": {},
     "output_type": "execute_result"
    },
    {
     "data": {
      "image/png": "[encoded data removed]",
      "text/plain": [
       "<Figure size 640x480 with 1 Axes>"
      ]
     },
     "metadata": {},
     "output_type": "display_data"
    }
   ],
   "source": [
    "plot_tree(dtc)"
   ]
  }
 ],
 "metadata": {
  "kernelspec": {
   "display_name": "DL_School",
   "language": "python",
   "name": "dl_school"
  },
  "language_info": {
   "codemirror_mode": {
    "name": "ipython",
    "version": 3
   },
   "file_extension": ".py",
   "mimetype": "text/x-python",
   "name": "python",
   "nbconvert_exporter": "python",
   "pygments_lexer": "ipython3",
   "version": "3.10.10"
  },
  "toc": {
   "base_numbering": 1,
   "nav_menu": {},
   "number_sections": true,
   "sideBar": false,
   "skip_h1_title": false,
   "title_cell": "Table of Contents",
   "title_sidebar": "Contents",
   "toc_cell": true,
   "toc_position": {},
   "toc_section_display": true,
   "toc_window_display": false
  }
 },
 "nbformat": 4,
 "nbformat_minor": 5
}
