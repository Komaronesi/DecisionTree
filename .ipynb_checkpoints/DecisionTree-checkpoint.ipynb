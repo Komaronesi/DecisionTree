{
 "cells": [
  {
   "cell_type": "markdown",
   "id": "4b0cbfe9",
   "metadata": {
    "toc": true
   },
   "source": [
    "<h1>Table of Contents<span class=\"tocSkip\"></span></h1>\n",
    "<div class=\"toc\"><ul class=\"toc-item\"></ul></div>"
   ]
  },
  {
   "cell_type": "code",
   "execution_count": 1,
   "id": "a4ae1459",
   "metadata": {
    "ExecuteTime": {
     "end_time": "2023-12-14T13:20:45.790826Z",
     "start_time": "2023-12-14T13:20:41.714414Z"
    }
   },
   "outputs": [],
   "source": [
    "import numpy as np\n",
    "from sklearn.datasets import make_regression, make_classification\n",
    "from sklearn.model_selection import train_test_split"
   ]
  },
  {
   "cell_type": "code",
   "execution_count": 18,
   "id": "8a8d9728",
   "metadata": {
    "ExecuteTime": {
     "end_time": "2023-12-14T13:25:02.237489Z",
     "start_time": "2023-12-14T13:25:02.230616Z"
    }
   },
   "outputs": [],
   "source": [
    "X, y = make_classification(1000, 12, n_informative = 9, n_classes = 3, n_clusters_per_class = 2)"
   ]
  },
  {
   "cell_type": "code",
   "execution_count": 19,
   "id": "7a857d74",
   "metadata": {
    "ExecuteTime": {
     "end_time": "2023-12-14T13:25:02.906032Z",
     "start_time": "2023-12-14T13:25:02.887580Z"
    }
   },
   "outputs": [
    {
     "data": {
      "text/plain": [
       "array([333, 333, 334], dtype=int64)"
      ]
     },
     "execution_count": 19,
     "metadata": {},
     "output_type": "execute_result"
    }
   ],
   "source": [
    "np.unique(y, return_counts = True)[1]"
   ]
  },
  {
   "cell_type": "code",
   "execution_count": 25,
   "id": "3efa6dc8",
   "metadata": {
    "ExecuteTime": {
     "end_time": "2023-12-14T13:29:50.364611Z",
     "start_time": "2023-12-14T13:29:50.345020Z"
    }
   },
   "outputs": [],
   "source": [
    "class DecisionTreeClassifier():\n",
    "\n",
    "    def __init__(self, max_depth = 10, criterion = 'gini', min_samples_leaf = 2):\n",
    "        self.max_depth = max_depth\n",
    "        self.criterion = criterion\n",
    "        self.min_samples_leaf = min_samples_leaf\n",
    "        pass\n",
    "\n",
    "    def fit(self, X, y):\n",
    "        tree = self.grow_tree(X, y, current_depth = 0)\n",
    "        pass\n",
    "\n",
    "    def predict(self, X):\n",
    "\n",
    "        return preds\n",
    "        pass\n",
    "\n",
    "    def grow_tree(self, X, y, current_depth):\n",
    "        splits = self.get_best_splits(X, y)\n",
    "\n",
    "    def get_best_splits(self, X, y):\n",
    "        splits = []\n",
    "        best_entropy = 0\n",
    "        for i in X.shape[1]:\n",
    "            pass\n",
    "\n",
    "    def entropy(self, y):\n",
    "        entropy_ = 0\n",
    "        for i, yi in enumerate(np.unique(y, return_counts = True)[0]):\n",
    "            prob = np.unique(y, return_counts = True)[1][i] / y.shape[0]\n",
    "            entropy_+= prob * np.log2(prob)\n",
    "        return -entropy_\n",
    "\n",
    "    def gini(self, X, y):\n",
    "        pass\n",
    "\n",
    "\n"
   ]
  },
  {
   "cell_type": "code",
   "execution_count": 26,
   "id": "2eb19ac6",
   "metadata": {
    "ExecuteTime": {
     "end_time": "2023-12-14T13:29:51.083327Z",
     "start_time": "2023-12-14T13:29:51.077496Z"
    }
   },
   "outputs": [],
   "source": [
    "dt = DecisionTreeClassifier()"
   ]
  },
  {
   "cell_type": "code",
   "execution_count": 27,
   "id": "ed7878f6",
   "metadata": {
    "ExecuteTime": {
     "end_time": "2023-12-14T13:29:51.802390Z",
     "start_time": "2023-12-14T13:29:51.794058Z"
    }
   },
   "outputs": [
    {
     "data": {
      "text/plain": [
       "1.584961058506293"
      ]
     },
     "execution_count": 27,
     "metadata": {},
     "output_type": "execute_result"
    }
   ],
   "source": [
    "dt.entropy(y)"
   ]
  }
 ],
 "metadata": {
  "kernelspec": {
   "display_name": "DL_School",
   "language": "python",
   "name": "dl_school"
  },
  "language_info": {
   "codemirror_mode": {
    "name": "ipython",
    "version": 3
   },
   "file_extension": ".py",
   "mimetype": "text/x-python",
   "name": "python",
   "nbconvert_exporter": "python",
   "pygments_lexer": "ipython3",
   "version": "3.10.10"
  },
  "toc": {
   "base_numbering": 1,
   "nav_menu": {},
   "number_sections": true,
   "sideBar": false,
   "skip_h1_title": false,
   "title_cell": "Table of Contents",
   "title_sidebar": "Contents",
   "toc_cell": true,
   "toc_position": {},
   "toc_section_display": true,
   "toc_window_display": false
  }
 },
 "nbformat": 4,
 "nbformat_minor": 5
}
